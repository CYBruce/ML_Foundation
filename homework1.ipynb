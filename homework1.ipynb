{
 "cells": [
  {
   "cell_type": "markdown",
   "metadata": {},
   "source": [
    "The first 4 numbers of the line contains the components of *x* and the last number is *y*.\n",
    "Initialize the algorithm with *w = 0* and take sigh(0) as -1.\n",
    "Remember to add *x0 = 1* for each *x*.\n",
    "Implement a version of PLA(percetron learning algorithm) by visiting examples in the naive cycle using the order of examples in the data set. Run the algorithm on the data set."
   ]
  },
  {
   "cell_type": "code",
   "execution_count": 36,
   "metadata": {},
   "outputs": [
    {
     "data": {
      "text/plain": [
       "array([[1.      , 0.97681 , 0.10723 , 0.64385 , 0.29556 ],\n",
       "       [1.      , 0.67194 , 0.2418  , 0.83075 , 0.42741 ],\n",
       "       [1.      , 0.20619 , 0.23321 , 0.81004 , 0.98691 ],\n",
       "       ...,\n",
       "       [1.      , 0.93895 , 0.93941 , 0.72496 , 0.95655 ],\n",
       "       [1.      , 0.046136, 0.94413 , 0.038311, 0.26812 ],\n",
       "       [1.      , 0.072491, 0.2242  , 0.62592 , 0.67238 ]])"
      ]
     },
     "execution_count": 36,
     "metadata": {},
     "output_type": "execute_result"
    }
   ],
   "source": [
    "import requests\n",
    "import json\n",
    "import numpy as np\n",
    "#get data\n",
    "data_url = 'https://www.csie.ntu.edu.tw/~htlin/mooc/datasets/mlfound_math/hw1_15_train.dat'\n",
    "r = requests.get(data_url)\n",
    "#preprocessing\n",
    "data = [float(_) for _ in r.text.split()]\n",
    "data = np.array(data).reshape(int(len(data)/5),5)\n",
    "x0 = np.ones((data.shape[0],1))\n",
    "data = np.hstack((x0,data))\n",
    "x = data[:,:-1]\n",
    "y = data[:,-1]\n",
    "x"
   ]
  },
  {
   "cell_type": "code",
   "execution_count": 46,
   "metadata": {},
   "outputs": [
    {
     "name": "stdout",
     "output_type": "stream",
     "text": [
      "37\n"
     ]
    }
   ],
   "source": [
    "# problem 15\n",
    "w = np.array([0,0,0,0,0])\n",
    "def correct(xn,yn):\n",
    "    is_all_right = False\n",
    "    return w + yn*xn\n",
    "counter = 0\n",
    "is_all_right = False\n",
    "while True:\n",
    "    is_all_right = True\n",
    "    for i in range(len(y)):\n",
    "        if np.dot(w,x[i])*y[i]<=0:#have different sign\n",
    "            w = correct(x[i],y[i])\n",
    "            counter+=1\n",
    "    if is_all_right:\n",
    "        break\n",
    "print(counter)\n",
    "        "
   ]
  },
  {
   "cell_type": "code",
   "execution_count": 52,
   "metadata": {},
   "outputs": [
    {
     "data": {
      "text/plain": [
       "34.385"
      ]
     },
     "execution_count": 52,
     "metadata": {},
     "output_type": "execute_result"
    }
   ],
   "source": [
    "#problem 16\n",
    "import random\n",
    "overall = 0\n",
    "for N in range(2000):\n",
    "    s = np.arange(0,len(y))\n",
    "    random.shuffle(s)\n",
    "    w = np.array([0,0,0,0,0])\n",
    "    counter = 0\n",
    "    is_all_right = False\n",
    "    while True:\n",
    "        is_all_right = True\n",
    "        for i in s:\n",
    "            if np.dot(w,x[i])*y[i]<=0:#have different sign\n",
    "                w = correct(x[i],y[i])\n",
    "                counter+=1\n",
    "        if is_all_right:\n",
    "            break\n",
    "    overall+=counter\n",
    "overall/2000\n",
    "    "
   ]
  },
  {
   "cell_type": "code",
   "execution_count": 53,
   "metadata": {},
   "outputs": [
    {
     "data": {
      "text/plain": [
       "34.156"
      ]
     },
     "execution_count": 53,
     "metadata": {},
     "output_type": "execute_result"
    }
   ],
   "source": [
    "#problem 17\n",
    "import random\n",
    "def correct(xn,yn):\n",
    "    is_all_right = False\n",
    "    return w + 0.5*yn*xn\n",
    "overall = 0\n",
    "for N in range(2000):\n",
    "    s = np.arange(0,len(y))\n",
    "    random.shuffle(s)\n",
    "    w = np.array([0,0,0,0,0])\n",
    "    counter = 0\n",
    "    is_all_right = False\n",
    "    while True:\n",
    "        is_all_right = True\n",
    "        for i in s:\n",
    "            if np.dot(w,x[i])*y[i]<=0:#have different sign\n",
    "                w = correct(x[i],y[i])\n",
    "                counter+=1\n",
    "        if is_all_right:\n",
    "            break\n",
    "    overall+=counter\n",
    "overall/2000\n"
   ]
  },
  {
   "cell_type": "markdown",
   "metadata": {},
   "source": [
    "Play with pocket algorithm.\n",
    "Test set for verifying. The sets are of the same format as the previous one. Run the pocket algorithm with a total of 50 updates on dataset, and verify the performance of POCKET algorithm."
   ]
  },
  {
   "cell_type": "code",
   "execution_count": 69,
   "metadata": {},
   "outputs": [],
   "source": [
    "import requests\n",
    "import json\n",
    "import numpy as np\n",
    "#get data\n",
    "train_data_url = 'https://www.csie.ntu.edu.tw/~htlin/mooc/datasets/mlfound_math/hw1_18_train.dat'\n",
    "test_data_url = 'https://www.csie.ntu.edu.tw/~htlin/mooc/datasets/mlfound_math/hw1_18_test.dat'\n",
    "r1 = requests.get(train_data_url)\n",
    "r2 = requests.get(test_data_url)\n",
    "#preprocessing\n",
    "train = [float(_) for _ in r1.text.split()]\n",
    "train = np.array(train).reshape(int(len(train)/5),5)\n",
    "x0 = np.ones((train.shape[0],1))\n",
    "train = np.hstack((x0,train))\n",
    "x_train = train[:,:-1]\n",
    "y_train = train[:,-1]\n",
    "\n",
    "test = [float(_) for _ in r2.text.split()]\n",
    "test = np.array(test).reshape(int(len(test)/5),5)\n",
    "x0 = np.ones((test.shape[0],1))\n",
    "test = np.hstack((x0,test))\n",
    "x_test = test[:,:-1]\n",
    "y_test = test[:,-1]\n"
   ]
  },
  {
   "cell_type": "code",
   "execution_count": null,
   "metadata": {},
   "outputs": [],
   "source": [
    "#problem 18\n",
    "import random\n",
    "def correct(xn,yn):\n",
    "    return w + yn*xn\n",
    "\n",
    "def compare(w1,w2,X,Y):#select the better one and save in the packet\n",
    "    if compute_error(w1,X,Y)>compute_error(w2,X,Y):\n",
    "        return w2\n",
    "    else:\n",
    "        return w1\n",
    "\n",
    "def compute_error(W,X,Y):#select the better one and save in the packet\n",
    "    errors = 0 \n",
    "    for index in range(len(Y)):\n",
    "        if np.dot(W,X[index])*Y[index]<=0:\n",
    "            errors+=1\n",
    "    return errors/len(Y)\n",
    "\n",
    "overall = 0\n",
    "\n",
    "for N in range(2000):\n",
    "    s = np.arange(0,len(y_train))\n",
    "    random.shuffle(s)\n",
    "    w = np.array([0,0,0,0,0])\n",
    "    w_star = np.array([0,0,0,0,0])\n",
    "    counter = 0\n",
    "    is_all_right = False\n",
    "    while True:\n",
    "        for i in s:\n",
    "            if np.dot(w,x_train[i])*y_train[i]<=0:#have different sign\n",
    "                w = correct(x_train[i],y_train[i])\n",
    "                w_star = compare(w,w_star,x_train,y_train)\n",
    "                counter+=1\n",
    "            if counter == 50:\n",
    "                break\n",
    "        if counter == 50:\n",
    "            break    \n",
    "    error_rate = compute_error(w_star,x_test,y_test)\n",
    "    overall+=error_rate\n",
    "print(overall/2000)\n",
    "\n",
    "'''\n",
    "little tip:\n",
    "在python的函数中，修改操作应该是针对局部变量，如果有和全局同名的变量，在修改之前对该变量进行操作自然会出现未定义这样的错误，如果确定要引用全局变量，并且要对它修改，就必须加上global关键字\n",
    "'''"
   ]
  },
  {
   "cell_type": "code",
   "execution_count": 74,
   "metadata": {},
   "outputs": [
    {
     "data": {
      "text/plain": [
       "0.36104099999999967"
      ]
     },
     "execution_count": 74,
     "metadata": {},
     "output_type": "execute_result"
    }
   ],
   "source": [
    "#problem 19\n",
    "import random\n",
    "def correct(xn,yn):\n",
    "    return w + yn*xn\n",
    "\n",
    "def compare(w1,w2,X,Y):#select the better one and save in the packet\n",
    "    if compute_error(w1,X,Y)>compute_error(w2,X,Y):\n",
    "        return w2\n",
    "    else:\n",
    "        return w1\n",
    "\n",
    "def compute_error(W,X,Y):#select the better one and save in the packet\n",
    "    errors = 0 \n",
    "    for index in range(len(Y)):\n",
    "        if np.dot(W,X[index])*Y[index]<=0:\n",
    "            errors+=1\n",
    "    return errors/len(Y)\n",
    "\n",
    "overall = 0\n",
    "\n",
    "for N in range(2000):\n",
    "    s = np.arange(0,len(y_train))\n",
    "    random.shuffle(s)\n",
    "    w = np.array([0,0,0,0,0])\n",
    "    w_star = np.array([0,0,0,0,0])\n",
    "    counter = 0\n",
    "    is_all_right = False\n",
    "    while True:\n",
    "        for i in s:\n",
    "            if np.dot(w,x_train[i])*y_train[i]<=0:#have different sign\n",
    "                w = correct(x_train[i],y_train[i])\n",
    "                #w_star = compare(w,w_star,x_train,y_train)\n",
    "                counter+=1\n",
    "            if counter == 50:\n",
    "                break\n",
    "        if counter == 50:\n",
    "            break    \n",
    "    error_rate = compute_error(w,x_test,y_test)\n",
    "    overall+=error_rate\n",
    "overall/2000\n"
   ]
  },
  {
   "cell_type": "code",
   "execution_count": null,
   "metadata": {},
   "outputs": [],
   "source": [
    "#problem 20\n",
    "import random\n",
    "def correct(xn,yn):\n",
    "    return w + yn*xn\n",
    "\n",
    "def compare(w1,w2,X,Y):#select the better one and save in the packet\n",
    "    if compute_error(w1,X,Y)>compute_error(w2,X,Y):\n",
    "        return w2\n",
    "    else:\n",
    "        return w1\n",
    "\n",
    "def compute_error(W,X,Y):#select the better one and save in the packet\n",
    "    errors = 0 \n",
    "    for index in range(len(Y)):\n",
    "        if np.dot(W,X[index])*Y[index]<=0:\n",
    "            errors+=1\n",
    "    return errors/len(Y)\n",
    "\n",
    "overall = 0\n",
    "\n",
    "for N in range(2000):\n",
    "    s = np.arange(0,len(y_train))\n",
    "    random.shuffle(s)\n",
    "    w = np.array([0,0,0,0,0])\n",
    "    w_star = np.array([0,0,0,0,0])\n",
    "    counter = 0\n",
    "    is_all_right = False\n",
    "    while True:\n",
    "        for i in s:\n",
    "            if np.dot(w,x_train[i])*y_train[i]<=0:#have different sign\n",
    "                w = correct(x_train[i],y_train[i])\n",
    "                w_star = compare(w,w_star,x_train,y_train)\n",
    "                counter+=1\n",
    "            if counter == 100:\n",
    "                break\n",
    "        if counter == 100:\n",
    "            break    \n",
    "    error_rate = compute_error(w_star,x_test,y_test)\n",
    "    overall+=error_rate\n",
    "print(overall/2000)\n"
   ]
  },
  {
   "cell_type": "code",
   "execution_count": null,
   "metadata": {},
   "outputs": [],
   "source": []
  }
 ],
 "metadata": {
  "kernelspec": {
   "display_name": "Python 3",
   "language": "python",
   "name": "python3"
  },
  "language_info": {
   "codemirror_mode": {
    "name": "ipython",
    "version": 3
   },
   "file_extension": ".py",
   "mimetype": "text/x-python",
   "name": "python",
   "nbconvert_exporter": "python",
   "pygments_lexer": "ipython3",
   "version": "3.6.4"
  }
 },
 "nbformat": 4,
 "nbformat_minor": 2
}
