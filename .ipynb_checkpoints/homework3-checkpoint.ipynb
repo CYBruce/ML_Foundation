{
 "cells": [
  {
   "cell_type": "markdown",
   "metadata": {},
   "source": [
    "For more information, please refer to 'https://blog.csdn.net/a1015553840/article/details/51103645'"
   ]
  },
  {
   "cell_type": "code",
   "execution_count": 1,
   "metadata": {},
   "outputs": [
    {
     "name": "stdout",
     "output_type": "stream",
     "text": [
      "2.8250003566832635\n"
     ]
    }
   ],
   "source": [
    "import numpy as np\n",
    "#problem 7, easy gradient descent method\n",
    "eta = 0.01\n",
    "def update(u,v):\n",
    "    diff = (np.exp(u)+v*np.exp(u*v)+2*u-2*v-3, 2*np.exp(2*v)+u*np.exp(u*v)-2*u+4*v-2)\n",
    "    return (u-eta*diff[0],v-eta*diff[1])\n",
    "u0 = 0\n",
    "v0 = 0\n",
    "for i in range(5):\n",
    "    u0,v0 = update(u0,v0)\n",
    "print(np.exp(u0)+np.exp(v0*2)+np.exp(u0*v0)+u0**2-2*u0*v0+2*v0**2-3*u0-2*v0)\n"
   ]
  },
  {
   "cell_type": "code",
   "execution_count": 11,
   "metadata": {},
   "outputs": [
    {
     "name": "stdout",
     "output_type": "stream",
     "text": [
      "2.360823345643139\n"
     ]
    }
   ],
   "source": [
    "#problem 10, easy Newton direction\n",
    "from numpy.linalg import inv\n",
    "def newton(u,v):\n",
    "    diff1 = np.array((np.exp(u)+v*np.exp(u*v)+2*u-2*v-3, 2*np.exp(2*v)+u*np.exp(u*v)-2*u+4*v-2)).reshape(-1,1)\n",
    "    diff2 = np.array([[np.exp(u)+v**2*np.exp(u*v)+2,(1+u*v)*np.exp(u*v)-2],[(1+u*v)*np.exp(u*v)-2,4*np.exp(2*v)+u**2*np.exp(u*v)+4]])\n",
    "    return u-np.dot(inv(diff2),diff1)[0][0],v-np.dot(inv(diff2),diff1)[1][0]\n",
    "\n",
    "u0 = 0\n",
    "v0 = 0\n",
    "for i in range(5):\n",
    "    u0,v0 = newton(u0,v0)\n",
    "print(np.exp(u0)+np.exp(v0*2)+np.exp(u0*v0)+u0**2-2*u0*v0+2*v0**2-3*u0-2*v0)\n"
   ]
  },
  {
   "cell_type": "code",
   "execution_count": 24,
   "metadata": {},
   "outputs": [
    {
     "name": "stdout",
     "output_type": "stream",
     "text": [
      "0.5031249999999997\n"
     ]
    }
   ],
   "source": [
    "#problem 13\n",
    "import random\n",
    "from sklearn import linear_model\n",
    "E_in_total = 0\n",
    "times = 1000\n",
    "sample_size = 1000\n",
    "for _ in range(times):\n",
    "    x = [[1,random.uniform(-1,1),random.uniform(-1,1)] for i in range(sample_size)]\n",
    "    y = [np.sign(x[i][1]**2+x[i][2]**2-0.6) for i in range(sample_size)]\n",
    "    for i in range(int(sample_size/10)):\n",
    "        y[random.randint(0,sample_size-1)]*=(-1)\n",
    "    clf = linear_model.LinearRegression()\n",
    "    clf.fit(x,y)\n",
    "    output = np.sign(clf.predict(x))\n",
    "    errors = 0\n",
    "    for i in range(sample_size):\n",
    "        if y[i]!=output[i]:\n",
    "            errors+=1\n",
    "    E_in = errors/sample_size\n",
    "    E_in_total+=E_in\n",
    "print(E_in_total/times)\n"
   ]
  },
  {
   "cell_type": "code",
   "execution_count": 29,
   "metadata": {},
   "outputs": [
    {
     "name": "stdout",
     "output_type": "stream",
     "text": [
      "(6, 1)\n",
      "iteration: 1\n",
      "iteration: 101\n",
      "iteration: 201\n",
      "iteration: 301\n",
      "iteration: 401\n",
      "iteration: 501\n",
      "iteration: 601\n",
      "iteration: 701\n",
      "iteration: 801\n",
      "iteration: 901\n",
      "error out of sample is 0.14326300000000008\n"
     ]
    }
   ],
   "source": [
    "def sign(v):\n",
    "    if v > 0:\n",
    "        return +1\n",
    "    else:\n",
    "        return -1\n",
    "\n",
    "def targetFunc(x1,x2):\n",
    "    r = x1*x1+x2*x2-0.6\n",
    "    return sign(r)\n",
    "\n",
    "def genData(N):\n",
    "    xs = []\n",
    "    ys = []\n",
    "    for i in range(N):\n",
    "        x1 = random.uniform(-1,1)\n",
    "        x2 = random.uniform(-1,1)\n",
    "        y = targetFunc(x1,x2)\n",
    "        prob = random.uniform(0,1)\n",
    "        if prob < 0.1:\n",
    "            y = -y\n",
    "        xs.append([1,x1,x2,x1*x2,x1*x1,x2*x2])\n",
    "        ys.append([y])\n",
    "    return np.mat(xs), np.array(ys)\n",
    "\n",
    "def trainLR(x,y):\n",
    "    pseu_inv = np.linalg.pinv(x)\n",
    "    w = pseu_inv*y\n",
    "    return np.array(w)\n",
    "\n",
    "def errorRate(w,x,y):\n",
    "    yHat = np.array(x*w)\n",
    "    yHat = list(map(sign,yHat))\n",
    "    y = list(map(lambda x: x[0],y))\n",
    "    errorNum = np.sum(np.array(yHat) != np.array(y))\n",
    "    return errorNum/len(y)\n",
    "\n",
    "def main():\n",
    "    N = 1000\n",
    "    errorSum = 0\n",
    "    w = np.array([[-1],[-0.05],[0.08],[0.13],[1.5],[1.5]])\n",
    "    print(w.shape)\n",
    "    for i in range(N):\n",
    "        x,y = genData(1000)\n",
    "        errorSum += errorRate(w,x,y)\n",
    "        if i%100 == 0:\n",
    "            print(\"iteration:\",i+1)\n",
    "    print(\"error out of sample is\",errorSum/N)\n",
    "\n",
    "\n",
    "if __name__ == '__main__':\n",
    "    main()\n"
   ]
  },
  {
   "cell_type": "code",
   "execution_count": 28,
   "metadata": {},
   "outputs": [
    {
     "name": "stdout",
     "output_type": "stream",
     "text": [
      "0.10898999999999955\n"
     ]
    }
   ],
   "source": [
    "#problem 15\n",
    "import random\n",
    "from sklearn import linear_model\n",
    "E_in_total = 0\n",
    "times = 1000\n",
    "sample_size = 1000\n",
    "for _ in range(times):\n",
    "    x1 = random.uniform(-1,1)\n",
    "    x2 = random.uniform(-1,1)\n",
    "    x = [[1,x1,x2,x1*x2,x1**2,x2**2] for i in range(sample_size)]\n",
    "    y = [np.sign(x[i][0]**2+x[i][1]**2-0.6) for i in range(sample_size)]\n",
    "    for i in range(int(sample_size/10)):\n",
    "        y[random.randint(0,sample_size-1)]*=(-1)\n",
    "    clf = linear_model.LinearRegression()\n",
    "    clf.fit(x,y)\n",
    "    output = np.sign(clf.predict(x))\n",
    "    errors = 0\n",
    "    for i in range(sample_size):\n",
    "        if y[i]!=output[i]:\n",
    "            errors+=1\n",
    "    E_in = errors/sample_size\n",
    "    E_in_total+=E_in\n",
    "print(E_in_total/times)\n"
   ]
  },
  {
   "cell_type": "code",
   "execution_count": null,
   "metadata": {},
   "outputs": [],
   "source": []
  }
 ],
 "metadata": {
  "kernelspec": {
   "display_name": "Python 3",
   "language": "python",
   "name": "python3"
  },
  "language_info": {
   "codemirror_mode": {
    "name": "ipython",
    "version": 3
   },
   "file_extension": ".py",
   "mimetype": "text/x-python",
   "name": "python",
   "nbconvert_exporter": "python",
   "pygments_lexer": "ipython3",
   "version": "3.6.4"
  }
 },
 "nbformat": 4,
 "nbformat_minor": 2
}
