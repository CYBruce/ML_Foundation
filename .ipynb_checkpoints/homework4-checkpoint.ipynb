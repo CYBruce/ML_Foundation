{
 "cells": [
  {
   "cell_type": "code",
   "execution_count": null,
   "metadata": {},
   "outputs": [],
   "source": [
    "#question 5, easy computation\n",
    "import numpy as np\n",
    "def func1(x):\n",
    "    return 4/(x-1)**2+4/(x+1)**2\n",
    "for i in (np.sqrt(np.sqrt(3)+4),np.sqrt(np.sqrt(3)-1),np.sqrt(9+4*np.sqrt(6)),np.sqrt(9-np.sqrt(6))):\n",
    "    print(func1(i))"
   ]
  },
  {
   "cell_type": "code",
   "execution_count": 94,
   "metadata": {},
   "outputs": [],
   "source": [
    "#problem 13-20 data processing\n",
    "import requests\n",
    "import json\n",
    "import numpy as np\n",
    "#get data\n",
    "train_data_url = 'https://www.csie.ntu.edu.tw/~htlin/mooc/datasets/mlfound_algo/hw4_train.dat'\n",
    "test_data_url = 'https://www.csie.ntu.edu.tw/~htlin/mooc/datasets/mlfound_algo/hw4_test.dat'\n",
    "r1 = requests.get(train_data_url)\n",
    "r2 = requests.get(test_data_url)\n",
    "#preprocessing\n",
    "train = [float(_) for _ in r1.text.split()]\n",
    "train = np.array(train).reshape(int(len(train)/3),3)\n",
    "x_train = train[:,:-1]\n",
    "y_train = train[:,-1]\n",
    "\n",
    "test = [float(_) for _ in r2.text.split()]\n",
    "test = np.array(test).reshape(int(len(test)/3),3)\n",
    "x_test = test[:,:-1]\n",
    "y_test = test[:,-1]\n",
    "\n",
    "trainX,trainY = x_train,y_train\n",
    "testX,testY = x_test,y_test\n"
   ]
  },
  {
   "cell_type": "code",
   "execution_count": 106,
   "metadata": {},
   "outputs": [
    {
     "name": "stdout",
     "output_type": "stream",
     "text": [
      "0.035\n",
      "0.022\n"
     ]
    }
   ],
   "source": [
    "#problem 13\n",
    "from sklearn.linear_model import Ridge\n",
    "clf = Ridge(alpha=10)\n",
    "clf.fit(trainX, trainY)\n",
    "testX = np.array(testX)\n",
    "y_in = clf.predict(np.array(trainX))\n",
    "y_out = clf.predict(np.array(testX))\n",
    "errs_in = 0\n",
    "for i in range(len(trainY)):\n",
    "    errs_in +=1 if np.sign(y_in[i])!=np.sign(trainY[i]) else 0\n",
    "print(errs_in/len(trainY))\n",
    "errs_out = 0\n",
    "for i in range(len(testY)):\n",
    "    errs_out +=1 if np.sign(y_out[i])!=np.sign(testY[i]) else 0\n",
    "print(errs_out/len(testY))"
   ]
  },
  {
   "cell_type": "code",
   "execution_count": 108,
   "metadata": {},
   "outputs": [
    {
     "name": "stdout",
     "output_type": "stream",
     "text": [
      "-10\n",
      "0.015\n",
      "0.02\n",
      "-9\n",
      "0.015\n",
      "0.02\n",
      "-8\n",
      "0.015\n",
      "0.02\n",
      "-7\n",
      "0.03\n",
      "0.015\n",
      "-6\n",
      "0.035\n",
      "0.016\n",
      "-5\n",
      "0.03\n",
      "0.016\n",
      "-4\n",
      "0.03\n",
      "0.016\n",
      "-3\n",
      "0.03\n",
      "0.016\n",
      "-2\n",
      "0.03\n",
      "0.016\n",
      "-1\n",
      "0.03\n",
      "0.016\n",
      "0\n",
      "0.035\n",
      "0.017\n",
      "1\n",
      "0.035\n",
      "0.022\n",
      "2\n",
      "0.1\n",
      "0.091\n"
     ]
    }
   ],
   "source": [
    "#problem 14,15\n",
    "for A in range(-10,3):\n",
    "    print(A)\n",
    "    clf = Ridge(alpha=10**A)\n",
    "    clf.fit(trainX, trainY)\n",
    "    testX = np.array(testX)\n",
    "    y_in = clf.predict(np.array(trainX))\n",
    "    y_out = clf.predict(np.array(testX))\n",
    "    errs_in = 0\n",
    "    for i in range(len(trainY)):\n",
    "        errs_in +=1 if np.sign(y_in[i])!=np.sign(trainY[i]) else 0\n",
    "    print(errs_in/len(trainY))\n",
    "    errs_out = 0\n",
    "    for i in range(len(testY)):\n",
    "        errs_out +=1 if np.sign(y_out[i])!=np.sign(testY[i]) else 0\n",
    "    print(errs_out/len(testY))"
   ]
  },
  {
   "cell_type": "code",
   "execution_count": 89,
   "metadata": {},
   "outputs": [],
   "source": []
  },
  {
   "cell_type": "code",
   "execution_count": 95,
   "metadata": {},
   "outputs": [
    {
     "data": {
      "text/plain": [
       "array([[0.731977, 0.731978],\n",
       "       [0.987864, 0.987864],\n",
       "       [0.402041, 0.402048],\n",
       "       ...,\n",
       "       [0.786785, 0.786803],\n",
       "       [0.545345, 0.545348],\n",
       "       [0.709711, 0.709694]])"
      ]
     },
     "execution_count": 95,
     "metadata": {},
     "output_type": "execute_result"
    }
   ],
   "source": [
    "testX"
   ]
  },
  {
   "cell_type": "code",
   "execution_count": null,
   "metadata": {},
   "outputs": [],
   "source": []
  }
 ],
 "metadata": {
  "kernelspec": {
   "display_name": "Python 3",
   "language": "python",
   "name": "python3"
  },
  "language_info": {
   "codemirror_mode": {
    "name": "ipython",
    "version": 3
   },
   "file_extension": ".py",
   "mimetype": "text/x-python",
   "name": "python",
   "nbconvert_exporter": "python",
   "pygments_lexer": "ipython3",
   "version": "3.6.4"
  }
 },
 "nbformat": 4,
 "nbformat_minor": 2
}
