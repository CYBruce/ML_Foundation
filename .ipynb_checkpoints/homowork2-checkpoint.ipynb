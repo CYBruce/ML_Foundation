{
 "cells": [
  {
   "cell_type": "markdown",
   "metadata": {},
   "source": [
    "For more information, refer to 'http://blog.csdn.net/a1015553840/article/details/51043019'."
   ]
  },
  {
   "cell_type": "code",
   "execution_count": 12,
   "metadata": {},
   "outputs": [
    {
     "name": "stdout",
     "output_type": "stream",
     "text": [
      "697.7536261452768\n",
      "2.14484271996018\n",
      "0.006458125661103743\n",
      "1.9080951877323054e-05\n",
      "5.540477479690249e-08\n"
     ]
    }
   ],
   "source": [
    "#question3\n",
    "import numpy as np\n",
    "sample_size = [420000,440000,460000,480000,500000]\n",
    "def error(num):\n",
    "    return 4*(2*num)**10*np.exp(-1/8*0.05**2*num)\n",
    "for item in sample_size:\n",
    "    print(error(item))"
   ]
  },
  {
   "cell_type": "code",
   "execution_count": 51,
   "metadata": {},
   "outputs": [
    {
     "name": "stdout",
     "output_type": "stream",
     "text": [
      "0.632174915200836\n",
      "0.3313087859616395\n",
      "[0.223598271319254]\n",
      "[0.215228049808247]\n",
      "0.8604259707062739\n"
     ]
    }
   ],
   "source": [
    "#question4\n",
    "import sympy\n",
    "dvc = 50\n",
    "delta = 0.05\n",
    "N = 10000\n",
    "\n",
    "def origiVC():\n",
    "    return np.sqrt(8/N*np.log(4*pow(2*N,dvc)/delta))\n",
    "\n",
    "def rpVC():\n",
    "    r1 = np.sqrt(2*np.log(2.0*N*pow(N,dvc))/N)\n",
    "    r2 = np.sqrt(2/N*np.log(1/delta))\n",
    "    return  r1+r2+1/N\n",
    "\n",
    "def pvVC():\n",
    "    epsilon = sympy.symbols('epsilon')\n",
    "    r1 = sympy.solve(epsilon-sympy.sqrt(1/N*sympy.log(6*((2*N)**dvc)/delta)),epsilon)\n",
    "    return r1\n",
    "\n",
    "def dVC():\n",
    "    epsilon = sympy.symbols('epsilon')\n",
    "    r1 = sympy.solve(epsilon-sympy.sqrt(0.5/N*(4*epsilon*(1+epsilon) + np.log(4)+dvc*sympy.log(N**2.0)-np.log(delta))),epsilon)\n",
    "    return r1\n",
    "\n",
    "def vVC():\n",
    "    return np.sqrt(16/N*(np.log(2)+dvc*np.log(N*1.0)-np.log(np.sqrt(delta))))\n",
    "\n",
    "if __name__ == '__main__':\n",
    "    print(origiVC())\n",
    "    print(rpVC())\n",
    "    print(pvVC())\n",
    "    print(dVC())\n",
    "    print(vVC())\n",
    "\n"
   ]
  },
  {
   "cell_type": "code",
   "execution_count": 53,
   "metadata": {},
   "outputs": [
    {
     "name": "stdout",
     "output_type": "stream",
     "text": [
      "13.828161484991483\n",
      "7.048776564183685\n",
      "[4.89727978356320]\n",
      "[5.59312554318267]\n",
      "16.264111061012045\n"
     ]
    }
   ],
   "source": [
    "#question5\n",
    "dvc = 50\n",
    "delta = 0.05\n",
    "N = 5\n",
    "\n",
    "def origiVC():\n",
    "    return np.sqrt(8/N*np.log(4*pow(2*N,dvc)/delta))\n",
    "\n",
    "def rpVC():\n",
    "    r1 = np.sqrt(2*np.log(2.0*N*pow(N,dvc))/N)\n",
    "    r2 = np.sqrt(2/N*np.log(1/delta))\n",
    "    return  r1+r2+1/N\n",
    "\n",
    "def pvVC():\n",
    "    epsilon = sympy.symbols('epsilon')\n",
    "    r1 = sympy.solve(epsilon-sympy.sqrt(1/N*np.log(6*((2*N)**dvc)/delta)),epsilon)\n",
    "    return r1\n",
    "\n",
    "def dVC():\n",
    "    epsilon = sympy.symbols('epsilon')\n",
    "    r1 = sympy.solve(epsilon-sympy.sqrt(0.5/N*(4*epsilon*(1+epsilon) + np.log(4)+dvc*sympy.log(N**2.0)-np.log(delta))),epsilon)\n",
    "    return r1\n",
    "\n",
    "def vVC():\n",
    "    return np.sqrt(16/N*(np.log(2)+dvc*np.log(N*1.0)-np.log(np.sqrt(delta))))\n",
    "\n",
    "if __name__ == '__main__':\n",
    "    print(origiVC())\n",
    "    print(rpVC())\n",
    "    print(pvVC())\n",
    "    print(dVC())\n",
    "    print(vVC())\n",
    "\n"
   ]
  },
  {
   "cell_type": "code",
   "execution_count": 73,
   "metadata": {},
   "outputs": [
    {
     "data": {
      "text/plain": [
       "0.14523000000000014"
      ]
     },
     "execution_count": 73,
     "metadata": {},
     "output_type": "execute_result"
    }
   ],
   "source": [
    "#question17\n",
    "import random\n",
    "import numpy as np\n",
    "def compute_error(s,t,X,Y):\n",
    "    errors = 0\n",
    "    for i in range(len(X)):\n",
    "        if Y[i]!=s*np.sign(X[i]-t):\n",
    "            errors+=1\n",
    "    return errors/len(X)\n",
    "    \n",
    "E_in_all = 0\n",
    "for times in range(5000):\n",
    "    E_in = 1\n",
    "    x = []\n",
    "    y = []\n",
    "    for i in range(20):\n",
    "        x.append(random.uniform(-1,1))\n",
    "    x.sort()\n",
    "    y = [1 if x[i]>0 else -1 for i in range(20)]\n",
    "    for i in range(4):\n",
    "        y[random.randint(0,19)] = -1*y[random.randint(0,19)]\n",
    "    dictomy = [-1]\n",
    "    for i in range(9):\n",
    "        dictomy.append((x[i]+x[i+1])/2)\n",
    "    \n",
    "    for sign in [-1,1]:\n",
    "        for theta in dictomy:\n",
    "            E_in_temp = compute_error(sign,theta,x,y)\n",
    "            if E_in_temp<E_in:\n",
    "                E_in = E_in_temp\n",
    "    E_in_all = E_in+E_in_all\n",
    "E_in_all/5000"
   ]
  },
  {
   "cell_type": "code",
   "execution_count": 74,
   "metadata": {},
   "outputs": [
    {
     "data": {
      "text/plain": [
       "0.23934000000000427"
      ]
     },
     "execution_count": 74,
     "metadata": {},
     "output_type": "execute_result"
    }
   ],
   "source": [
    "#question18\n",
    "import random\n",
    "import numpy as np\n",
    "def compute_error(s,t,X,Y):\n",
    "    errors = 0\n",
    "    for i in range(len(X)):\n",
    "        if Y[i]!=s*np.sign(X[i]-t):\n",
    "            errors+=1\n",
    "    return errors/len(X)\n",
    "    \n",
    "E_out_all = 0\n",
    "for times in range(5000):\n",
    "    E_in = 1\n",
    "    x = []\n",
    "    y = []\n",
    "    for i in range(20):\n",
    "        x.append(random.uniform(-1,1))\n",
    "    x.sort()\n",
    "    y = [1 if x[i]>0 else -1 for i in range(20)]\n",
    "    for i in range(4):\n",
    "        y[random.randint(0,19)] = -1*y[random.randint(0,19)]\n",
    "    \n",
    "    x_test = []\n",
    "    y_test = []\n",
    "    for i in range(20):\n",
    "        x_test.append(random.uniform(-1,1))\n",
    "    y_test = [1 if x_test[i]>0 else -1 for i in range(20)]\n",
    "    for i in range(4):\n",
    "        y_test[random.randint(0,19)] *= -1\n",
    "    \n",
    "    dictomy = [-1]\n",
    "    for i in range(9):\n",
    "        dictomy.append((x[i]+x[i+1])/2)\n",
    "    params = [0,0]\n",
    "    for sign in [-1,1]:\n",
    "        for theta in dictomy:\n",
    "            E_in_temp = compute_error(sign,theta,x,y)\n",
    "            if E_in_temp<E_in:\n",
    "                E_in = E_in_temp\n",
    "                params = [sign, theta]\n",
    "    E_out_all += compute_error(params[0],params[1],x_test,y_test)\n",
    "E_out_all/5000"
   ]
  },
  {
   "cell_type": "code",
   "execution_count": 93,
   "metadata": {},
   "outputs": [
    {
     "data": {
      "text/plain": [
       "0.25"
      ]
     },
     "execution_count": 93,
     "metadata": {},
     "output_type": "execute_result"
    }
   ],
   "source": [
    "#question19\n",
    "import requests\n",
    "import json\n",
    "import numpy as np\n",
    "#get data\n",
    "train_data_url = 'https://www.csie.ntu.edu.tw/~htlin/mooc/datasets/mlfound_math/hw2_train.dat'\n",
    "test_data_url = 'https://www.csie.ntu.edu.tw/~htlin/mooc/datasets/mlfound_math/hw2_test.dat'\n",
    "r1 = requests.get(train_data_url)\n",
    "r2 = requests.get(test_data_url)\n",
    "#preprocessing\n",
    "train = [float(_) for _ in r1.text.split()]\n",
    "train = np.array(train).reshape(int(len(train)/10),10)\n",
    "x_train = train[:,:-1]\n",
    "y_train = train[:,-1]\n",
    "\n",
    "test = [float(_) for _ in r2.text.split()]\n",
    "test = np.array(test).reshape(int(len(test)/10),10)\n",
    "x_test = test[:,:-1]\n",
    "y_test = test[:,-1]\n",
    "\n",
    "def compute_error(s,t,X,Y):\n",
    "    errors = 0\n",
    "    for i in range(len(X)):\n",
    "        if Y[i]!=s*np.sign(X[i]-t):\n",
    "            errors+=1\n",
    "    return errors/len(X)\n",
    "    \n",
    "E_in = 1\n",
    "params = [0,0,0]\n",
    "for i in range(9):\n",
    "    x = x_train[:,i].copy()\n",
    "    x.sort()\n",
    "    dictomy = []\n",
    "    for j in range(len(x)-1):\n",
    "        dictomy.append((x[j]+x[j+1])/2)\n",
    "    dictomy.append(x[-1])\n",
    "    for sign in [-1,1]:\n",
    "        for theta in dictomy:\n",
    "            E_in_temp = compute_error(sign,theta,x_train[:,i],y_train)\n",
    "            if E_in_temp<E_in:\n",
    "                E_in = E_in_temp\n",
    "                params = [i,sign, theta]\n",
    "E_in"
   ]
  },
  {
   "cell_type": "code",
   "execution_count": 94,
   "metadata": {},
   "outputs": [
    {
     "data": {
      "text/plain": [
       "0.355"
      ]
     },
     "execution_count": 94,
     "metadata": {},
     "output_type": "execute_result"
    }
   ],
   "source": [
    "#problem20\n",
    "compute_error(params[1],params[2],x_test[:,params[0]],y_test)"
   ]
  },
  {
   "cell_type": "code",
   "execution_count": null,
   "metadata": {},
   "outputs": [],
   "source": []
  }
 ],
 "metadata": {
  "kernelspec": {
   "display_name": "Python 3",
   "language": "python",
   "name": "python3"
  },
  "language_info": {
   "codemirror_mode": {
    "name": "ipython",
    "version": 3
   },
   "file_extension": ".py",
   "mimetype": "text/x-python",
   "name": "python",
   "nbconvert_exporter": "python",
   "pygments_lexer": "ipython3",
   "version": "3.6.4"
  }
 },
 "nbformat": 4,
 "nbformat_minor": 2
}
